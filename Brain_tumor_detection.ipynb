{
  "nbformat": 4,
  "nbformat_minor": 0,
  "metadata": {
    "colab": {
      "provenance": [],
      "gpuType": "T4",
      "authorship_tag": "ABX9TyNchcvmeoda43RyUbLaA25m",
      "include_colab_link": true
    },
    "kernelspec": {
      "name": "python3",
      "display_name": "Python 3"
    },
    "language_info": {
      "name": "python"
    },
    "accelerator": "GPU"
  },
  "cells": [
    {
      "cell_type": "markdown",
      "metadata": {
        "id": "view-in-github",
        "colab_type": "text"
      },
      "source": [
        "<a href=\"https://colab.research.google.com/github/Becksayuk/AllBet-Game/blob/main/Brain_tumor_detection.ipynb\" target=\"_parent\"><img src=\"https://colab.research.google.com/assets/colab-badge.svg\" alt=\"Open In Colab\"/></a>"
      ]
    },
    {
      "cell_type": "code",
      "source": [
        "!unzip /content/BrainTumorDataset.zip"
      ],
      "metadata": {
        "colab": {
          "base_uri": "https://localhost:8080/"
        },
        "collapsed": true,
        "id": "t3hkEVnsv0xD",
        "outputId": "5c11cf5b-aac8-47ae-ef83-64534cb14087"
      },
      "execution_count": 3,
      "outputs": [
        {
          "output_type": "stream",
          "name": "stdout",
          "text": [
            "Archive:  /content/BrainTumorDataset.zip\n",
            "  inflating: brain_tumor_dataset/Tumor/Y1.jpg  \n",
            "  inflating: brain_tumor_dataset/Tumor/Y10.jpg  \n",
            "  inflating: brain_tumor_dataset/Tumor/Y100.JPG  \n",
            "  inflating: brain_tumor_dataset/Tumor/Y101.jpg  \n",
            "  inflating: brain_tumor_dataset/Tumor/Y102.jpg  \n",
            "  inflating: brain_tumor_dataset/Tumor/Y103.jpg  \n",
            "  inflating: brain_tumor_dataset/Tumor/Y104.jpg  \n",
            "  inflating: brain_tumor_dataset/Tumor/Y105.jpg  \n",
            "  inflating: brain_tumor_dataset/Tumor/Y106.jpg  \n",
            "  inflating: brain_tumor_dataset/Tumor/Y107.jpg  \n",
            "  inflating: brain_tumor_dataset/Tumor/Y108.jpg  \n",
            "  inflating: brain_tumor_dataset/Tumor/Y109.JPG  \n",
            "  inflating: brain_tumor_dataset/Tumor/Y11.jpg  \n",
            "  inflating: brain_tumor_dataset/Tumor/Y111.JPG  \n",
            "  inflating: brain_tumor_dataset/Tumor/Y112.JPG  \n",
            "  inflating: brain_tumor_dataset/Tumor/Y113.JPG  \n",
            "  inflating: brain_tumor_dataset/Tumor/Y114.JPG  \n",
            "  inflating: brain_tumor_dataset/Tumor/Y115.JPG  \n",
            "  inflating: brain_tumor_dataset/Tumor/Y116.JPG  \n",
            "  inflating: brain_tumor_dataset/Tumor/Y117.JPG  \n",
            "  inflating: brain_tumor_dataset/Tumor/Y12.jpg  \n",
            "  inflating: brain_tumor_dataset/Tumor/Y120.JPG  \n",
            "  inflating: brain_tumor_dataset/Tumor/Y13.jpg  \n",
            "  inflating: brain_tumor_dataset/Tumor/Y14.jpg  \n",
            "  inflating: brain_tumor_dataset/Tumor/Y146.JPG  \n",
            "  inflating: brain_tumor_dataset/Tumor/Y147.JPG  \n",
            "  inflating: brain_tumor_dataset/Tumor/Y148.JPG  \n",
            "  inflating: brain_tumor_dataset/Tumor/Y15.jpg  \n",
            "  inflating: brain_tumor_dataset/Tumor/Y153.jpg  \n",
            "  inflating: brain_tumor_dataset/Tumor/Y154.jpg  \n",
            "  inflating: brain_tumor_dataset/Tumor/Y155.JPG  \n",
            "  inflating: brain_tumor_dataset/Tumor/Y156.JPG  \n",
            "  inflating: brain_tumor_dataset/Tumor/Y157.JPG  \n",
            "  inflating: brain_tumor_dataset/Tumor/Y158.JPG  \n",
            "  inflating: brain_tumor_dataset/Tumor/Y159.JPG  \n",
            "  inflating: brain_tumor_dataset/Tumor/Y16.JPG  \n",
            "  inflating: brain_tumor_dataset/Tumor/Y160.JPG  \n",
            "  inflating: brain_tumor_dataset/Tumor/Y161.JPG  \n",
            "  inflating: brain_tumor_dataset/Tumor/Y162.jpg  \n",
            "  inflating: brain_tumor_dataset/Tumor/Y163.JPG  \n",
            "  inflating: brain_tumor_dataset/Tumor/Y164.JPG  \n",
            "  inflating: brain_tumor_dataset/Tumor/Y165.JPG  \n",
            "  inflating: brain_tumor_dataset/Tumor/Y166.JPG  \n",
            "  inflating: brain_tumor_dataset/Tumor/Y167.JPG  \n",
            "  inflating: brain_tumor_dataset/Tumor/Y168.jpg  \n",
            "  inflating: brain_tumor_dataset/Tumor/Y169.jpg  \n",
            "  inflating: brain_tumor_dataset/Tumor/Y17.jpg  \n",
            "  inflating: brain_tumor_dataset/Tumor/Y170.JPG  \n",
            "  inflating: brain_tumor_dataset/Tumor/Y18.JPG  \n",
            "  inflating: brain_tumor_dataset/Tumor/Y180.jpg  \n",
            "  inflating: brain_tumor_dataset/Tumor/Y181.jpg  \n",
            "  inflating: brain_tumor_dataset/Tumor/Y182.JPG  \n",
            "  inflating: brain_tumor_dataset/Tumor/Y183.jpg  \n",
            "  inflating: brain_tumor_dataset/Tumor/Y184.JPG  \n",
            "  inflating: brain_tumor_dataset/Tumor/Y185.jpg  \n",
            "  inflating: brain_tumor_dataset/Tumor/Y186.jpg  \n",
            "  inflating: brain_tumor_dataset/Tumor/Y187.jpg  \n",
            "  inflating: brain_tumor_dataset/Tumor/Y188.jpg  \n",
            "  inflating: brain_tumor_dataset/Tumor/Y19.JPG  \n",
            "  inflating: brain_tumor_dataset/Tumor/Y192.JPG  \n",
            "  inflating: brain_tumor_dataset/Tumor/Y193.JPG  \n",
            "  inflating: brain_tumor_dataset/Tumor/Y194.jpg  \n",
            "  inflating: brain_tumor_dataset/Tumor/Y195.JPG  \n",
            "  inflating: brain_tumor_dataset/Tumor/Y2.jpg  \n",
            "  inflating: brain_tumor_dataset/Tumor/Y20.jpg  \n",
            "  inflating: brain_tumor_dataset/Tumor/Y21.jpg  \n",
            "  inflating: brain_tumor_dataset/Tumor/Y22.jpg  \n",
            "  inflating: brain_tumor_dataset/Tumor/Y23.JPG  \n",
            "  inflating: brain_tumor_dataset/Tumor/Y24.jpg  \n",
            "  inflating: brain_tumor_dataset/Tumor/Y242.JPG  \n",
            "  inflating: brain_tumor_dataset/Tumor/Y243.JPG  \n",
            "  inflating: brain_tumor_dataset/Tumor/Y244.JPG  \n",
            "  inflating: brain_tumor_dataset/Tumor/Y245.jpg  \n",
            "  inflating: brain_tumor_dataset/Tumor/Y246.JPG  \n",
            "  inflating: brain_tumor_dataset/Tumor/Y247.JPG  \n",
            "  inflating: brain_tumor_dataset/Tumor/Y248.JPG  \n",
            "  inflating: brain_tumor_dataset/Tumor/Y249.JPG  \n",
            "  inflating: brain_tumor_dataset/Tumor/Y25.jpg  \n",
            "  inflating: brain_tumor_dataset/Tumor/Y250.jpg  \n",
            "  inflating: brain_tumor_dataset/Tumor/Y251.JPG  \n",
            "  inflating: brain_tumor_dataset/Tumor/Y252.jpg  \n",
            "  inflating: brain_tumor_dataset/Tumor/Y253.JPG  \n",
            "  inflating: brain_tumor_dataset/Tumor/Y254.jpg  \n",
            "  inflating: brain_tumor_dataset/Tumor/Y255.JPG  \n",
            "  inflating: brain_tumor_dataset/Tumor/Y256.JPG  \n",
            "  inflating: brain_tumor_dataset/Tumor/Y257.jpg  \n",
            "  inflating: brain_tumor_dataset/Tumor/Y258.JPG  \n",
            "  inflating: brain_tumor_dataset/Tumor/Y259.JPG  \n",
            "  inflating: brain_tumor_dataset/Tumor/Y26.jpg  \n",
            "  inflating: brain_tumor_dataset/Tumor/Y27.jpg  \n",
            "  inflating: brain_tumor_dataset/Tumor/Y28.jpg  \n",
            "  inflating: brain_tumor_dataset/Tumor/Y29.jpg  \n",
            "  inflating: brain_tumor_dataset/Tumor/Y3.jpg  \n",
            "  inflating: brain_tumor_dataset/Tumor/Y30.jpg  \n",
            "  inflating: brain_tumor_dataset/Tumor/Y31.jpg  \n",
            "  inflating: brain_tumor_dataset/Tumor/Y32.jpg  \n",
            "  inflating: brain_tumor_dataset/Tumor/Y33.jpg  \n",
            "  inflating: brain_tumor_dataset/Tumor/Y34.jpg  \n",
            "  inflating: brain_tumor_dataset/Tumor/Y35.jpg  \n",
            "  inflating: brain_tumor_dataset/Tumor/Y36.JPG  \n",
            "  inflating: brain_tumor_dataset/Tumor/Y37.jpg  \n",
            "  inflating: brain_tumor_dataset/Tumor/Y38.jpg  \n",
            "  inflating: brain_tumor_dataset/Tumor/Y39.jpg  \n",
            "  inflating: brain_tumor_dataset/Tumor/Y4.jpg  \n",
            "  inflating: brain_tumor_dataset/Tumor/Y40.JPG  \n",
            "  inflating: brain_tumor_dataset/Tumor/Y41.jpg  \n",
            "  inflating: brain_tumor_dataset/Tumor/Y42.jpg  \n",
            "  inflating: brain_tumor_dataset/Tumor/Y44.JPG  \n",
            "  inflating: brain_tumor_dataset/Tumor/Y45.JPG  \n",
            "  inflating: brain_tumor_dataset/Tumor/Y46.jpg  \n",
            "  inflating: brain_tumor_dataset/Tumor/Y47.JPG  \n",
            "  inflating: brain_tumor_dataset/Tumor/Y49.JPG  \n",
            "  inflating: brain_tumor_dataset/Tumor/Y50.JPG  \n",
            "  inflating: brain_tumor_dataset/Tumor/Y51.jpg  \n",
            "  inflating: brain_tumor_dataset/Tumor/Y52.jpg  \n",
            "  inflating: brain_tumor_dataset/Tumor/Y53.jpg  \n",
            "  inflating: brain_tumor_dataset/Tumor/Y54.jpg  \n",
            "  inflating: brain_tumor_dataset/Tumor/Y55.jpg  \n",
            "  inflating: brain_tumor_dataset/Tumor/Y56.jpg  \n",
            "  inflating: brain_tumor_dataset/Tumor/Y58.JPG  \n",
            "  inflating: brain_tumor_dataset/Tumor/Y59.JPG  \n",
            "  inflating: brain_tumor_dataset/Tumor/Y6.jpg  \n",
            "  inflating: brain_tumor_dataset/Tumor/Y60.jpg  \n",
            "  inflating: brain_tumor_dataset/Tumor/Y61.jpg  \n",
            "  inflating: brain_tumor_dataset/Tumor/Y62.jpg  \n",
            "  inflating: brain_tumor_dataset/Tumor/Y65.JPG  \n",
            "  inflating: brain_tumor_dataset/Tumor/Y66.JPG  \n",
            "  inflating: brain_tumor_dataset/Tumor/Y67.JPG  \n",
            "  inflating: brain_tumor_dataset/Tumor/Y69.jpg  \n",
            "  inflating: brain_tumor_dataset/Tumor/Y7.jpg  \n",
            "  inflating: brain_tumor_dataset/Tumor/Y70.jpg  \n",
            "  inflating: brain_tumor_dataset/Tumor/Y71.JPG  \n",
            "  inflating: brain_tumor_dataset/Tumor/Y73.jpg  \n",
            "  inflating: brain_tumor_dataset/Tumor/Y74.jpg  \n",
            "  inflating: brain_tumor_dataset/Tumor/Y75.JPG  \n",
            "  inflating: brain_tumor_dataset/Tumor/Y76.jpg  \n",
            "  inflating: brain_tumor_dataset/Tumor/Y77.jpg  \n",
            "  inflating: brain_tumor_dataset/Tumor/Y78.jpg  \n",
            "  inflating: brain_tumor_dataset/Tumor/Y79.jpg  \n",
            "  inflating: brain_tumor_dataset/Tumor/Y8.jpg  \n",
            "  inflating: brain_tumor_dataset/Tumor/Y81.jpg  \n",
            "  inflating: brain_tumor_dataset/Tumor/Y82.jpg  \n",
            "  inflating: brain_tumor_dataset/Tumor/Y85.JPG  \n",
            "  inflating: brain_tumor_dataset/Tumor/Y86.JPG  \n",
            "  inflating: brain_tumor_dataset/Tumor/Y89.JPG  \n",
            "  inflating: brain_tumor_dataset/Tumor/Y9.jpg  \n",
            "  inflating: brain_tumor_dataset/Tumor/Y90.jpg  \n",
            "  inflating: brain_tumor_dataset/Tumor/Y91.jpg  \n",
            "  inflating: brain_tumor_dataset/Tumor/Y92.jpg  \n",
            "  inflating: brain_tumor_dataset/Tumor/Y92.png  \n",
            "  inflating: brain_tumor_dataset/Tumor/Y95.jpg  \n",
            "  inflating: brain_tumor_dataset/Tumor/Y96.jpg  \n",
            "  inflating: brain_tumor_dataset/Tumor/Y97.JPG  \n",
            "  inflating: brain_tumor_dataset/Tumor/Y98.JPG  \n",
            "  inflating: brain_tumor_dataset/Tumor/Y99.JPG  \n",
            "  inflating: brain_tumor_dataset/healthy/1 no.jpeg  \n",
            "  inflating: brain_tumor_dataset/healthy/10 no.jpg  \n",
            "  inflating: brain_tumor_dataset/healthy/11 no.jpg  \n",
            "  inflating: brain_tumor_dataset/healthy/12 no.jpg  \n",
            "  inflating: brain_tumor_dataset/healthy/13 no.jpg  \n",
            "  inflating: brain_tumor_dataset/healthy/14 no.jpg  \n",
            "  inflating: brain_tumor_dataset/healthy/15 no.jpg  \n",
            "  inflating: brain_tumor_dataset/healthy/17 no.jpg  \n",
            "  inflating: brain_tumor_dataset/healthy/18 no.jpg  \n",
            "  inflating: brain_tumor_dataset/healthy/19 no.jpg  \n",
            "  inflating: brain_tumor_dataset/healthy/2 no.jpeg  \n",
            "  inflating: brain_tumor_dataset/healthy/20 no.jpg  \n",
            "  inflating: brain_tumor_dataset/healthy/21 no.jpg  \n",
            "  inflating: brain_tumor_dataset/healthy/22 no.jpg  \n",
            "  inflating: brain_tumor_dataset/healthy/23 no.jpg  \n",
            "  inflating: brain_tumor_dataset/healthy/24 no.jpg  \n",
            "  inflating: brain_tumor_dataset/healthy/25 no.jpg  \n",
            "  inflating: brain_tumor_dataset/healthy/26 no.jpg  \n",
            "  inflating: brain_tumor_dataset/healthy/27 no.jpg  \n",
            "  inflating: brain_tumor_dataset/healthy/28 no.jpg  \n",
            "  inflating: brain_tumor_dataset/healthy/29 no.jpg  \n",
            "  inflating: brain_tumor_dataset/healthy/3 no.jpg  \n",
            "  inflating: brain_tumor_dataset/healthy/30 no.jpg  \n",
            "  inflating: brain_tumor_dataset/healthy/31 no.jpg  \n",
            "  inflating: brain_tumor_dataset/healthy/32 no.jpg  \n",
            "  inflating: brain_tumor_dataset/healthy/33 no.jpg  \n",
            "  inflating: brain_tumor_dataset/healthy/34 no.jpg  \n",
            "  inflating: brain_tumor_dataset/healthy/35 no.jpg  \n",
            "  inflating: brain_tumor_dataset/healthy/36 no.jpg  \n",
            "  inflating: brain_tumor_dataset/healthy/37 no.jpg  \n",
            "  inflating: brain_tumor_dataset/healthy/38 no.jpg  \n",
            "  inflating: brain_tumor_dataset/healthy/39 no.jpg  \n",
            "  inflating: brain_tumor_dataset/healthy/4 no.jpg  \n",
            "  inflating: brain_tumor_dataset/healthy/40 no.jpg  \n",
            "  inflating: brain_tumor_dataset/healthy/41 no.jpg  \n",
            "  inflating: brain_tumor_dataset/healthy/42 no.jpg  \n",
            "  inflating: brain_tumor_dataset/healthy/43 no.jpg  \n",
            "  inflating: brain_tumor_dataset/healthy/44no.jpg  \n",
            "  inflating: brain_tumor_dataset/healthy/45 no.jpg  \n",
            "  inflating: brain_tumor_dataset/healthy/46 no.jpg  \n",
            "  inflating: brain_tumor_dataset/healthy/47 no.jpg  \n",
            "  inflating: brain_tumor_dataset/healthy/48 no.jpeg  \n",
            "  inflating: brain_tumor_dataset/healthy/49 no.jpg  \n",
            "  inflating: brain_tumor_dataset/healthy/5 no.jpg  \n",
            "  inflating: brain_tumor_dataset/healthy/50 no.jpg  \n",
            "  inflating: brain_tumor_dataset/healthy/6 no.jpg  \n",
            "  inflating: brain_tumor_dataset/healthy/7 no.jpg  \n",
            "  inflating: brain_tumor_dataset/healthy/8 no.jpg  \n",
            "  inflating: brain_tumor_dataset/healthy/9 no.jpg  \n",
            "  inflating: brain_tumor_dataset/healthy/N1.JPG  \n",
            "  inflating: brain_tumor_dataset/healthy/N11.jpg  \n",
            "  inflating: brain_tumor_dataset/healthy/N15.jpg  \n",
            "  inflating: brain_tumor_dataset/healthy/N16.jpg  \n",
            "  inflating: brain_tumor_dataset/healthy/N17.jpg  \n",
            "  inflating: brain_tumor_dataset/healthy/N19.JPG  \n",
            "  inflating: brain_tumor_dataset/healthy/N2.JPG  \n",
            "  inflating: brain_tumor_dataset/healthy/N20.JPG  \n",
            "  inflating: brain_tumor_dataset/healthy/N21.jpg  \n",
            "  inflating: brain_tumor_dataset/healthy/N22.JPG  \n",
            "  inflating: brain_tumor_dataset/healthy/N26.JPG  \n",
            "  inflating: brain_tumor_dataset/healthy/N3.jpg  \n",
            "  inflating: brain_tumor_dataset/healthy/N5.jpg  \n",
            "  inflating: brain_tumor_dataset/healthy/N6.jpg  \n",
            "  inflating: brain_tumor_dataset/healthy/No11.jpg  \n",
            "  inflating: brain_tumor_dataset/healthy/No12.jpg  \n",
            "  inflating: brain_tumor_dataset/healthy/No13.jpg  \n",
            "  inflating: brain_tumor_dataset/healthy/No14.jpg  \n",
            "  inflating: brain_tumor_dataset/healthy/No15.jpg  \n",
            "  inflating: brain_tumor_dataset/healthy/No16.jpg  \n",
            "  inflating: brain_tumor_dataset/healthy/No17.jpg  \n",
            "  inflating: brain_tumor_dataset/healthy/No18.jpg  \n",
            "  inflating: brain_tumor_dataset/healthy/No19.jpg  \n",
            "  inflating: brain_tumor_dataset/healthy/No20.jpg  \n",
            "  inflating: brain_tumor_dataset/healthy/No21.jpg  \n",
            "  inflating: brain_tumor_dataset/healthy/No22.jpg  \n",
            "  inflating: brain_tumor_dataset/healthy/no 1.jpg  \n",
            "  inflating: brain_tumor_dataset/healthy/no 10.jpg  \n",
            "  inflating: brain_tumor_dataset/healthy/no 100.jpg  \n",
            "  inflating: brain_tumor_dataset/healthy/no 2.jpg  \n",
            "  inflating: brain_tumor_dataset/healthy/no 3.jpg  \n",
            "  inflating: brain_tumor_dataset/healthy/no 4.jpg  \n",
            "  inflating: brain_tumor_dataset/healthy/no 5.jpeg  \n",
            "  inflating: brain_tumor_dataset/healthy/no 6.jpg  \n",
            "  inflating: brain_tumor_dataset/healthy/no 7.jpeg  \n",
            "  inflating: brain_tumor_dataset/healthy/no 8.jpg  \n",
            "  inflating: brain_tumor_dataset/healthy/no 89.jpg  \n",
            "  inflating: brain_tumor_dataset/healthy/no 9.png  \n",
            "  inflating: brain_tumor_dataset/healthy/no 90.jpg  \n",
            "  inflating: brain_tumor_dataset/healthy/no 91.jpeg  \n",
            "  inflating: brain_tumor_dataset/healthy/no 92.jpg  \n",
            "  inflating: brain_tumor_dataset/healthy/no 923.jpg  \n",
            "  inflating: brain_tumor_dataset/healthy/no 94.jpg  \n",
            "  inflating: brain_tumor_dataset/healthy/no 95.jpg  \n",
            "  inflating: brain_tumor_dataset/healthy/no 96.jpg  \n",
            "  inflating: brain_tumor_dataset/healthy/no 97.jpg  \n",
            "  inflating: brain_tumor_dataset/healthy/no 98.jpg  \n",
            "  inflating: brain_tumor_dataset/healthy/no 99.jpg  \n",
            "  inflating: brain_tumor_dataset/healthy/no.jpg  \n"
          ]
        }
      ]
    },
    {
      "cell_type": "code",
      "source": [
        "import warnings\n",
        "warnings.filterwarnings('ignore')"
      ],
      "metadata": {
        "id": "u74jDF-jxfhQ"
      },
      "execution_count": 4,
      "outputs": []
    },
    {
      "cell_type": "code",
      "source": [
        "import numpy as np\n",
        "import matplotlib.pyplot as plt\n",
        "import os\n",
        "import math\n",
        "import shutil\n",
        "import glob"
      ],
      "metadata": {
        "id": "ewl7DMzJxxhA"
      },
      "execution_count": 5,
      "outputs": []
    },
    {
      "cell_type": "code",
      "source": [
        "#count the number of images in the respective classes 1-Tumor, 0-Healthy\n",
        "ROOT_DIR = \"/content/brain_tumor_dataset\"\n",
        "number_of_images = {}\n",
        "for dir in os.listdir(ROOT_DIR):\n",
        "  number_of_images[dir] = len(os.listdir(os.path.join(ROOT_DIR, dir)))"
      ],
      "metadata": {
        "id": "vqfI-qfGyPnQ"
      },
      "execution_count": 6,
      "outputs": []
    },
    {
      "cell_type": "code",
      "source": [
        "number_of_images.items()"
      ],
      "metadata": {
        "colab": {
          "base_uri": "https://localhost:8080/"
        },
        "id": "D52tfNkrzw6a",
        "outputId": "49177c06-1487-4c5b-eb5e-041f5c75010a"
      },
      "execution_count": 13,
      "outputs": [
        {
          "output_type": "execute_result",
          "data": {
            "text/plain": [
              "dict_items([('healthy', 98), ('Tumor', 155)])"
            ]
          },
          "metadata": {},
          "execution_count": 13
        }
      ]
    },
    {
      "cell_type": "code",
      "source": [
        "\n",
        "# split dataset 70%-Training, 15%-Testing, 15%- Validation\n",
        "#We create a train folder\n",
        "\n",
        "def dataFolder(p, split):\n",
        "\n",
        "  if not os.path.exists(\"./\"+p):\n",
        "    os.mkdir(\"./\"+p)\n",
        "\n",
        "    for dir in os.listdir(ROOT_DIR):\n",
        "      os.makedirs(os.path.join(\"./\"+p+\"/\"+dir))\n",
        "\n",
        "      for img in np.random.choice(a = os.listdir(os.path.join(ROOT_DIR, dir)),\n",
        "                                size = (math.floor(split*number_of_images[dir])-2), replace = False):\n",
        "\n",
        "\n",
        "        O = os.path.join(ROOT_DIR, dir, img)\n",
        "        D = os.path.join(\"./\"+p, dir)\n",
        "        shutil.copy(O,D)\n",
        "        os.remove(O)\n",
        "  else:\n",
        "    print( p + \"folder already exists\")\n",
        "\n",
        "\n",
        "dataFolder(\"train\", 0.7)\n"
      ],
      "metadata": {
        "id": "Dv8GoGap0MEx"
      },
      "execution_count": 7,
      "outputs": []
    },
    {
      "cell_type": "code",
      "source": [
        "dataFolder(\"val\", 0.15)"
      ],
      "metadata": {
        "id": "qe2m2ZZL6Svf"
      },
      "execution_count": 8,
      "outputs": []
    },
    {
      "cell_type": "code",
      "source": [
        "dataFolder(\"test\", 0.15)"
      ],
      "metadata": {
        "id": "EBvd48dc85F1"
      },
      "execution_count": 9,
      "outputs": []
    },
    {
      "cell_type": "markdown",
      "source": [
        "Model Build"
      ],
      "metadata": {
        "id": "cnealyj-A-oB"
      }
    },
    {
      "cell_type": "code",
      "source": [
        "from keras.layers import Conv2D, MaxPool2D, Dropout, Flatten, Dense, BatchNormalization, GlobalAvgPool2D\n",
        "from keras.models import Sequential\n",
        "from tensorflow.keras.preprocessing.image import ImageDataGenerator\n",
        "import keras\n"
      ],
      "metadata": {
        "id": "ieRnMER7BGd-"
      },
      "execution_count": 10,
      "outputs": []
    },
    {
      "cell_type": "code",
      "source": [
        "# CNN MODEL\n",
        "\n",
        "model = Sequential()\n",
        "model.add(Conv2D(filters= 16, kernel_size = (3,3), activation= 'relu' ,input_shape = (224,224,3) ))\n",
        "\n",
        "model.add(Conv2D(filters= 36, kernel_size = (3,3 ), activation= 'relu'))\n",
        "model.add(MaxPool2D(pool_size=(2,2)))\n",
        "\n",
        "model.add(Conv2D(filters= 64, kernel_size = (3,3), activation= 'relu'))\n",
        "model.add(MaxPool2D(pool_size=(2,2)))\n",
        "\n",
        "model.add(Conv2D(filters= 128, kernel_size = (3,3), activation= 'relu'))\n",
        "model.add(MaxPool2D(pool_size=(2,2)))\n",
        "\n",
        "model.add(Dropout(rate = 0.25))\n",
        "\n",
        "model.add(Flatten())\n",
        "model.add(Dense(units=64, activation= 'relu'))\n",
        "model.add(Dropout(rate = 0.25))\n",
        "model.add(Dense(units=1, activation= 'sigmoid'))\n",
        "\n",
        "model.summary()\n"
      ],
      "metadata": {
        "colab": {
          "base_uri": "https://localhost:8080/",
          "height": 513
        },
        "collapsed": true,
        "id": "eDsmzYNVCh9y",
        "outputId": "2404c38f-3f77-48b3-e2c3-3c057a7bc01a"
      },
      "execution_count": 11,
      "outputs": [
        {
          "output_type": "display_data",
          "data": {
            "text/plain": [
              "\u001b[1mModel: \"sequential\"\u001b[0m\n"
            ],
            "text/html": [
              "<pre style=\"white-space:pre;overflow-x:auto;line-height:normal;font-family:Menlo,'DejaVu Sans Mono',consolas,'Courier New',monospace\"><span style=\"font-weight: bold\">Model: \"sequential\"</span>\n",
              "</pre>\n"
            ]
          },
          "metadata": {}
        },
        {
          "output_type": "display_data",
          "data": {
            "text/plain": [
              "┏━━━━━━━━━━━━━━━━━━━━━━━━━━━━━━━━━┳━━━━━━━━━━━━━━━━━━━━━━━━┳━━━━━━━━━━━━━━━┓\n",
              "┃\u001b[1m \u001b[0m\u001b[1mLayer (type)                   \u001b[0m\u001b[1m \u001b[0m┃\u001b[1m \u001b[0m\u001b[1mOutput Shape          \u001b[0m\u001b[1m \u001b[0m┃\u001b[1m \u001b[0m\u001b[1m      Param #\u001b[0m\u001b[1m \u001b[0m┃\n",
              "┡━━━━━━━━━━━━━━━━━━━━━━━━━━━━━━━━━╇━━━━━━━━━━━━━━━━━━━━━━━━╇━━━━━━━━━━━━━━━┩\n",
              "│ conv2d (\u001b[38;5;33mConv2D\u001b[0m)                 │ (\u001b[38;5;45mNone\u001b[0m, \u001b[38;5;34m222\u001b[0m, \u001b[38;5;34m222\u001b[0m, \u001b[38;5;34m16\u001b[0m)   │           \u001b[38;5;34m448\u001b[0m │\n",
              "├─────────────────────────────────┼────────────────────────┼───────────────┤\n",
              "│ conv2d_1 (\u001b[38;5;33mConv2D\u001b[0m)               │ (\u001b[38;5;45mNone\u001b[0m, \u001b[38;5;34m220\u001b[0m, \u001b[38;5;34m220\u001b[0m, \u001b[38;5;34m36\u001b[0m)   │         \u001b[38;5;34m5,220\u001b[0m │\n",
              "├─────────────────────────────────┼────────────────────────┼───────────────┤\n",
              "│ max_pooling2d (\u001b[38;5;33mMaxPooling2D\u001b[0m)    │ (\u001b[38;5;45mNone\u001b[0m, \u001b[38;5;34m110\u001b[0m, \u001b[38;5;34m110\u001b[0m, \u001b[38;5;34m36\u001b[0m)   │             \u001b[38;5;34m0\u001b[0m │\n",
              "├─────────────────────────────────┼────────────────────────┼───────────────┤\n",
              "│ conv2d_2 (\u001b[38;5;33mConv2D\u001b[0m)               │ (\u001b[38;5;45mNone\u001b[0m, \u001b[38;5;34m108\u001b[0m, \u001b[38;5;34m108\u001b[0m, \u001b[38;5;34m64\u001b[0m)   │        \u001b[38;5;34m20,800\u001b[0m │\n",
              "├─────────────────────────────────┼────────────────────────┼───────────────┤\n",
              "│ max_pooling2d_1 (\u001b[38;5;33mMaxPooling2D\u001b[0m)  │ (\u001b[38;5;45mNone\u001b[0m, \u001b[38;5;34m54\u001b[0m, \u001b[38;5;34m54\u001b[0m, \u001b[38;5;34m64\u001b[0m)     │             \u001b[38;5;34m0\u001b[0m │\n",
              "├─────────────────────────────────┼────────────────────────┼───────────────┤\n",
              "│ conv2d_3 (\u001b[38;5;33mConv2D\u001b[0m)               │ (\u001b[38;5;45mNone\u001b[0m, \u001b[38;5;34m52\u001b[0m, \u001b[38;5;34m52\u001b[0m, \u001b[38;5;34m128\u001b[0m)    │        \u001b[38;5;34m73,856\u001b[0m │\n",
              "├─────────────────────────────────┼────────────────────────┼───────────────┤\n",
              "│ max_pooling2d_2 (\u001b[38;5;33mMaxPooling2D\u001b[0m)  │ (\u001b[38;5;45mNone\u001b[0m, \u001b[38;5;34m26\u001b[0m, \u001b[38;5;34m26\u001b[0m, \u001b[38;5;34m128\u001b[0m)    │             \u001b[38;5;34m0\u001b[0m │\n",
              "├─────────────────────────────────┼────────────────────────┼───────────────┤\n",
              "│ dropout (\u001b[38;5;33mDropout\u001b[0m)               │ (\u001b[38;5;45mNone\u001b[0m, \u001b[38;5;34m26\u001b[0m, \u001b[38;5;34m26\u001b[0m, \u001b[38;5;34m128\u001b[0m)    │             \u001b[38;5;34m0\u001b[0m │\n",
              "├─────────────────────────────────┼────────────────────────┼───────────────┤\n",
              "│ flatten (\u001b[38;5;33mFlatten\u001b[0m)               │ (\u001b[38;5;45mNone\u001b[0m, \u001b[38;5;34m86528\u001b[0m)          │             \u001b[38;5;34m0\u001b[0m │\n",
              "├─────────────────────────────────┼────────────────────────┼───────────────┤\n",
              "│ dense (\u001b[38;5;33mDense\u001b[0m)                   │ (\u001b[38;5;45mNone\u001b[0m, \u001b[38;5;34m64\u001b[0m)             │     \u001b[38;5;34m5,537,856\u001b[0m │\n",
              "├─────────────────────────────────┼────────────────────────┼───────────────┤\n",
              "│ dropout_1 (\u001b[38;5;33mDropout\u001b[0m)             │ (\u001b[38;5;45mNone\u001b[0m, \u001b[38;5;34m64\u001b[0m)             │             \u001b[38;5;34m0\u001b[0m │\n",
              "├─────────────────────────────────┼────────────────────────┼───────────────┤\n",
              "│ dense_1 (\u001b[38;5;33mDense\u001b[0m)                 │ (\u001b[38;5;45mNone\u001b[0m, \u001b[38;5;34m1\u001b[0m)              │            \u001b[38;5;34m65\u001b[0m │\n",
              "└─────────────────────────────────┴────────────────────────┴───────────────┘\n"
            ],
            "text/html": [
              "<pre style=\"white-space:pre;overflow-x:auto;line-height:normal;font-family:Menlo,'DejaVu Sans Mono',consolas,'Courier New',monospace\">┏━━━━━━━━━━━━━━━━━━━━━━━━━━━━━━━━━┳━━━━━━━━━━━━━━━━━━━━━━━━┳━━━━━━━━━━━━━━━┓\n",
              "┃<span style=\"font-weight: bold\"> Layer (type)                    </span>┃<span style=\"font-weight: bold\"> Output Shape           </span>┃<span style=\"font-weight: bold\">       Param # </span>┃\n",
              "┡━━━━━━━━━━━━━━━━━━━━━━━━━━━━━━━━━╇━━━━━━━━━━━━━━━━━━━━━━━━╇━━━━━━━━━━━━━━━┩\n",
              "│ conv2d (<span style=\"color: #0087ff; text-decoration-color: #0087ff\">Conv2D</span>)                 │ (<span style=\"color: #00d7ff; text-decoration-color: #00d7ff\">None</span>, <span style=\"color: #00af00; text-decoration-color: #00af00\">222</span>, <span style=\"color: #00af00; text-decoration-color: #00af00\">222</span>, <span style=\"color: #00af00; text-decoration-color: #00af00\">16</span>)   │           <span style=\"color: #00af00; text-decoration-color: #00af00\">448</span> │\n",
              "├─────────────────────────────────┼────────────────────────┼───────────────┤\n",
              "│ conv2d_1 (<span style=\"color: #0087ff; text-decoration-color: #0087ff\">Conv2D</span>)               │ (<span style=\"color: #00d7ff; text-decoration-color: #00d7ff\">None</span>, <span style=\"color: #00af00; text-decoration-color: #00af00\">220</span>, <span style=\"color: #00af00; text-decoration-color: #00af00\">220</span>, <span style=\"color: #00af00; text-decoration-color: #00af00\">36</span>)   │         <span style=\"color: #00af00; text-decoration-color: #00af00\">5,220</span> │\n",
              "├─────────────────────────────────┼────────────────────────┼───────────────┤\n",
              "│ max_pooling2d (<span style=\"color: #0087ff; text-decoration-color: #0087ff\">MaxPooling2D</span>)    │ (<span style=\"color: #00d7ff; text-decoration-color: #00d7ff\">None</span>, <span style=\"color: #00af00; text-decoration-color: #00af00\">110</span>, <span style=\"color: #00af00; text-decoration-color: #00af00\">110</span>, <span style=\"color: #00af00; text-decoration-color: #00af00\">36</span>)   │             <span style=\"color: #00af00; text-decoration-color: #00af00\">0</span> │\n",
              "├─────────────────────────────────┼────────────────────────┼───────────────┤\n",
              "│ conv2d_2 (<span style=\"color: #0087ff; text-decoration-color: #0087ff\">Conv2D</span>)               │ (<span style=\"color: #00d7ff; text-decoration-color: #00d7ff\">None</span>, <span style=\"color: #00af00; text-decoration-color: #00af00\">108</span>, <span style=\"color: #00af00; text-decoration-color: #00af00\">108</span>, <span style=\"color: #00af00; text-decoration-color: #00af00\">64</span>)   │        <span style=\"color: #00af00; text-decoration-color: #00af00\">20,800</span> │\n",
              "├─────────────────────────────────┼────────────────────────┼───────────────┤\n",
              "│ max_pooling2d_1 (<span style=\"color: #0087ff; text-decoration-color: #0087ff\">MaxPooling2D</span>)  │ (<span style=\"color: #00d7ff; text-decoration-color: #00d7ff\">None</span>, <span style=\"color: #00af00; text-decoration-color: #00af00\">54</span>, <span style=\"color: #00af00; text-decoration-color: #00af00\">54</span>, <span style=\"color: #00af00; text-decoration-color: #00af00\">64</span>)     │             <span style=\"color: #00af00; text-decoration-color: #00af00\">0</span> │\n",
              "├─────────────────────────────────┼────────────────────────┼───────────────┤\n",
              "│ conv2d_3 (<span style=\"color: #0087ff; text-decoration-color: #0087ff\">Conv2D</span>)               │ (<span style=\"color: #00d7ff; text-decoration-color: #00d7ff\">None</span>, <span style=\"color: #00af00; text-decoration-color: #00af00\">52</span>, <span style=\"color: #00af00; text-decoration-color: #00af00\">52</span>, <span style=\"color: #00af00; text-decoration-color: #00af00\">128</span>)    │        <span style=\"color: #00af00; text-decoration-color: #00af00\">73,856</span> │\n",
              "├─────────────────────────────────┼────────────────────────┼───────────────┤\n",
              "│ max_pooling2d_2 (<span style=\"color: #0087ff; text-decoration-color: #0087ff\">MaxPooling2D</span>)  │ (<span style=\"color: #00d7ff; text-decoration-color: #00d7ff\">None</span>, <span style=\"color: #00af00; text-decoration-color: #00af00\">26</span>, <span style=\"color: #00af00; text-decoration-color: #00af00\">26</span>, <span style=\"color: #00af00; text-decoration-color: #00af00\">128</span>)    │             <span style=\"color: #00af00; text-decoration-color: #00af00\">0</span> │\n",
              "├─────────────────────────────────┼────────────────────────┼───────────────┤\n",
              "│ dropout (<span style=\"color: #0087ff; text-decoration-color: #0087ff\">Dropout</span>)               │ (<span style=\"color: #00d7ff; text-decoration-color: #00d7ff\">None</span>, <span style=\"color: #00af00; text-decoration-color: #00af00\">26</span>, <span style=\"color: #00af00; text-decoration-color: #00af00\">26</span>, <span style=\"color: #00af00; text-decoration-color: #00af00\">128</span>)    │             <span style=\"color: #00af00; text-decoration-color: #00af00\">0</span> │\n",
              "├─────────────────────────────────┼────────────────────────┼───────────────┤\n",
              "│ flatten (<span style=\"color: #0087ff; text-decoration-color: #0087ff\">Flatten</span>)               │ (<span style=\"color: #00d7ff; text-decoration-color: #00d7ff\">None</span>, <span style=\"color: #00af00; text-decoration-color: #00af00\">86528</span>)          │             <span style=\"color: #00af00; text-decoration-color: #00af00\">0</span> │\n",
              "├─────────────────────────────────┼────────────────────────┼───────────────┤\n",
              "│ dense (<span style=\"color: #0087ff; text-decoration-color: #0087ff\">Dense</span>)                   │ (<span style=\"color: #00d7ff; text-decoration-color: #00d7ff\">None</span>, <span style=\"color: #00af00; text-decoration-color: #00af00\">64</span>)             │     <span style=\"color: #00af00; text-decoration-color: #00af00\">5,537,856</span> │\n",
              "├─────────────────────────────────┼────────────────────────┼───────────────┤\n",
              "│ dropout_1 (<span style=\"color: #0087ff; text-decoration-color: #0087ff\">Dropout</span>)             │ (<span style=\"color: #00d7ff; text-decoration-color: #00d7ff\">None</span>, <span style=\"color: #00af00; text-decoration-color: #00af00\">64</span>)             │             <span style=\"color: #00af00; text-decoration-color: #00af00\">0</span> │\n",
              "├─────────────────────────────────┼────────────────────────┼───────────────┤\n",
              "│ dense_1 (<span style=\"color: #0087ff; text-decoration-color: #0087ff\">Dense</span>)                 │ (<span style=\"color: #00d7ff; text-decoration-color: #00d7ff\">None</span>, <span style=\"color: #00af00; text-decoration-color: #00af00\">1</span>)              │            <span style=\"color: #00af00; text-decoration-color: #00af00\">65</span> │\n",
              "└─────────────────────────────────┴────────────────────────┴───────────────┘\n",
              "</pre>\n"
            ]
          },
          "metadata": {}
        },
        {
          "output_type": "display_data",
          "data": {
            "text/plain": [
              "\u001b[1m Total params: \u001b[0m\u001b[38;5;34m5,638,245\u001b[0m (21.51 MB)\n"
            ],
            "text/html": [
              "<pre style=\"white-space:pre;overflow-x:auto;line-height:normal;font-family:Menlo,'DejaVu Sans Mono',consolas,'Courier New',monospace\"><span style=\"font-weight: bold\"> Total params: </span><span style=\"color: #00af00; text-decoration-color: #00af00\">5,638,245</span> (21.51 MB)\n",
              "</pre>\n"
            ]
          },
          "metadata": {}
        },
        {
          "output_type": "display_data",
          "data": {
            "text/plain": [
              "\u001b[1m Trainable params: \u001b[0m\u001b[38;5;34m5,638,245\u001b[0m (21.51 MB)\n"
            ],
            "text/html": [
              "<pre style=\"white-space:pre;overflow-x:auto;line-height:normal;font-family:Menlo,'DejaVu Sans Mono',consolas,'Courier New',monospace\"><span style=\"font-weight: bold\"> Trainable params: </span><span style=\"color: #00af00; text-decoration-color: #00af00\">5,638,245</span> (21.51 MB)\n",
              "</pre>\n"
            ]
          },
          "metadata": {}
        },
        {
          "output_type": "display_data",
          "data": {
            "text/plain": [
              "\u001b[1m Non-trainable params: \u001b[0m\u001b[38;5;34m0\u001b[0m (0.00 B)\n"
            ],
            "text/html": [
              "<pre style=\"white-space:pre;overflow-x:auto;line-height:normal;font-family:Menlo,'DejaVu Sans Mono',consolas,'Courier New',monospace\"><span style=\"font-weight: bold\"> Non-trainable params: </span><span style=\"color: #00af00; text-decoration-color: #00af00\">0</span> (0.00 B)\n",
              "</pre>\n"
            ]
          },
          "metadata": {}
        }
      ]
    },
    {
      "cell_type": "code",
      "source": [
        "model.compile(optimizer= 'adam', loss= keras.losses.binary_crossentropy, metrics= ['accuracy'])"
      ],
      "metadata": {
        "id": "6HTJSoHDHZsz"
      },
      "execution_count": 12,
      "outputs": []
    },
    {
      "cell_type": "code",
      "source": [
        "#Preparing our data using data generator\n",
        "\n",
        "def preprocessingImages(path):\n",
        "    \"\"\"\n",
        "    input : path\n",
        "    output : preprocessed images\n",
        "    \"\"\"\n",
        "\n",
        "    image_data = ImageDataGenerator(zoom_range=0.2, shear_range=0.2, rescale=1/255, horizontal_flip=True)\n",
        "    image = image_data.flow_from_directory(directory=path, target_size=(224,224), batch_size=32, class_mode='binary')\n",
        "\n",
        "    return image"
      ],
      "metadata": {
        "id": "X26DmVpNIzM_"
      },
      "execution_count": 13,
      "outputs": []
    },
    {
      "cell_type": "code",
      "source": [
        "path = \"/content/train\"\n",
        "train_data = preprocessingImages(path)\n"
      ],
      "metadata": {
        "colab": {
          "base_uri": "https://localhost:8080/"
        },
        "id": "RV6KxgukKJSM",
        "outputId": "130897a9-cc90-4176-e2e5-932a040c876e"
      },
      "execution_count": 14,
      "outputs": [
        {
          "output_type": "stream",
          "name": "stdout",
          "text": [
            "Found 172 images belonging to 2 classes.\n"
          ]
        }
      ]
    },
    {
      "cell_type": "code",
      "source": [
        "train_data.class_indices\n"
      ],
      "metadata": {
        "colab": {
          "base_uri": "https://localhost:8080/"
        },
        "id": "dpSj7ClKb5ix",
        "outputId": "c8d71c09-bdcd-4938-d385-48e2935816a2"
      },
      "execution_count": 15,
      "outputs": [
        {
          "output_type": "execute_result",
          "data": {
            "text/plain": [
              "{'Tumor': 0, 'healthy': 1}"
            ]
          },
          "metadata": {},
          "execution_count": 15
        }
      ]
    },
    {
      "cell_type": "code",
      "source": [
        "\n",
        "def preprocessingImages2(path):\n",
        "    \"\"\"\n",
        "    input : path\n",
        "    output : preprocessed images\n",
        "    \"\"\"\n",
        "\n",
        "    image_data = ImageDataGenerator(rescale=1/255)\n",
        "    image = image_data.flow_from_directory(directory=path, target_size=(224,224), batch_size=32, class_mode='binary')\n",
        "\n",
        "    return image"
      ],
      "metadata": {
        "id": "KscqEVTKLcKp"
      },
      "execution_count": 16,
      "outputs": []
    },
    {
      "cell_type": "code",
      "source": [],
      "metadata": {
        "id": "AaxpborfTog9"
      },
      "execution_count": null,
      "outputs": []
    },
    {
      "cell_type": "code",
      "source": [
        "path = \"/content/test\"\n",
        "test_data = preprocessingImages2(path)"
      ],
      "metadata": {
        "colab": {
          "base_uri": "https://localhost:8080/"
        },
        "id": "NxGTCu5RKnwW",
        "outputId": "1cb04b34-3959-434d-da4d-d58fb9f0bea7"
      },
      "execution_count": 17,
      "outputs": [
        {
          "output_type": "stream",
          "name": "stdout",
          "text": [
            "Found 33 images belonging to 2 classes.\n"
          ]
        }
      ]
    },
    {
      "cell_type": "code",
      "source": [
        "path = \"/content/val\"\n",
        "val_data = preprocessingImages2(path)"
      ],
      "metadata": {
        "colab": {
          "base_uri": "https://localhost:8080/"
        },
        "id": "ly5WbGGZK2hF",
        "outputId": "1c43e6ec-c188-4752-b612-6e4bea5c598d"
      },
      "execution_count": 18,
      "outputs": [
        {
          "output_type": "stream",
          "name": "stdout",
          "text": [
            "Found 33 images belonging to 2 classes.\n"
          ]
        }
      ]
    },
    {
      "cell_type": "code",
      "source": [
        "# Early Stopping and model check point\n",
        "\n",
        "from keras.callbacks import ModelCheckpoint, EarlyStopping\n",
        "\n",
        "# early stopping\n",
        "\n",
        "es = EarlyStopping(monitor=\"val_accuracy\", min_delta=0.01, patience=5, verbose=1)\n",
        "\n",
        "#modal checkpoint\n",
        "mc =  ModelCheckpoint(monitor = \"val_accuracy\", filepath=\"./bestmodel.h5\", verbose=1, save_best_only= True, mode = \"auto\")\n",
        "\n",
        "cd = [es, mc]"
      ],
      "metadata": {
        "id": "lmW-mzAEL3Wm"
      },
      "execution_count": 19,
      "outputs": []
    },
    {
      "cell_type": "code",
      "source": [],
      "metadata": {
        "id": "DNghZrzDccAt"
      },
      "execution_count": null,
      "outputs": []
    },
    {
      "cell_type": "code",
      "source": [
        "# Model Training\n",
        "\n",
        "hs = model.fit(train_data, steps_per_epoch = 8, epochs= 30, verbose = 1, validation_data= val_data, validation_steps= 16, callbacks= cd)"
      ],
      "metadata": {
        "colab": {
          "base_uri": "https://localhost:8080/"
        },
        "collapsed": true,
        "id": "nlih4OqaOT7l",
        "outputId": "1e22935c-9d6c-4a9c-a7af-86a86ffa7feb"
      },
      "execution_count": 31,
      "outputs": [
        {
          "output_type": "stream",
          "name": "stdout",
          "text": [
            "Epoch 1/30\n",
            "\u001b[1m6/8\u001b[0m \u001b[32m━━━━━━━━━━━━━━━\u001b[0m\u001b[37m━━━━━\u001b[0m \u001b[1m0s\u001b[0m 357ms/step - accuracy: 0.7962 - loss: 0.5476\n",
            "Epoch 1: val_accuracy improved from -inf to 0.69697, saving model to ./bestmodel.h5\n"
          ]
        },
        {
          "output_type": "stream",
          "name": "stderr",
          "text": [
            "WARNING:absl:You are saving your model as an HDF5 file via `model.save()` or `keras.saving.save_model(model)`. This file format is considered legacy. We recommend using instead the native Keras format, e.g. `model.save('my_model.keras')` or `keras.saving.save_model(model, 'my_model.keras')`. \n"
          ]
        },
        {
          "output_type": "stream",
          "name": "stdout",
          "text": [
            "\b\b\b\b\b\b\b\b\b\b\b\b\b\b\b\b\b\b\b\b\b\b\b\b\b\b\b\b\b\b\b\b\b\b\b\b\b\b\b\b\b\b\b\b\b\b\b\b\b\b\b\b\b\b\b\b\b\b\b\b\b\b\b\b\b\b\b\b\b\b\b\b\r\u001b[1m8/8\u001b[0m \u001b[32m━━━━━━━━━━━━━━━━━━━━\u001b[0m\u001b[37m\u001b[0m \u001b[1m3s\u001b[0m 315ms/step - accuracy: 0.7919 - loss: 0.5497 - val_accuracy: 0.6970 - val_loss: 0.5693\n",
            "Epoch 2/30\n",
            "\u001b[1m6/8\u001b[0m \u001b[32m━━━━━━━━━━━━━━━\u001b[0m\u001b[37m━━━━━\u001b[0m \u001b[1m0s\u001b[0m 410ms/step - accuracy: 0.7920 - loss: 0.5002\n",
            "Epoch 2: val_accuracy did not improve from 0.69697\n",
            "\u001b[1m8/8\u001b[0m \u001b[32m━━━━━━━━━━━━━━━━━━━━\u001b[0m\u001b[37m\u001b[0m \u001b[1m5s\u001b[0m 312ms/step - accuracy: 0.7902 - loss: 0.5143 - val_accuracy: 0.6970 - val_loss: 0.6202\n",
            "Epoch 3/30\n",
            "\u001b[1m6/8\u001b[0m \u001b[32m━━━━━━━━━━━━━━━\u001b[0m\u001b[37m━━━━━\u001b[0m \u001b[1m0s\u001b[0m 399ms/step - accuracy: 0.8216 - loss: 0.5039\n",
            "Epoch 3: val_accuracy did not improve from 0.69697\n",
            "\u001b[1m8/8\u001b[0m \u001b[32m━━━━━━━━━━━━━━━━━━━━\u001b[0m\u001b[37m\u001b[0m \u001b[1m3s\u001b[0m 333ms/step - accuracy: 0.8139 - loss: 0.5049 - val_accuracy: 0.6970 - val_loss: 0.6038\n",
            "Epoch 4/30\n",
            "\u001b[1m6/8\u001b[0m \u001b[32m━━━━━━━━━━━━━━━\u001b[0m\u001b[37m━━━━━\u001b[0m \u001b[1m0s\u001b[0m 414ms/step - accuracy: 0.7951 - loss: 0.5080\n",
            "Epoch 4: val_accuracy did not improve from 0.69697\n",
            "\u001b[1m8/8\u001b[0m \u001b[32m━━━━━━━━━━━━━━━━━━━━\u001b[0m\u001b[37m\u001b[0m \u001b[1m3s\u001b[0m 319ms/step - accuracy: 0.7925 - loss: 0.5106 - val_accuracy: 0.6970 - val_loss: 0.5982\n",
            "Epoch 5/30\n",
            "\u001b[1m6/8\u001b[0m \u001b[32m━━━━━━━━━━━━━━━\u001b[0m\u001b[37m━━━━━\u001b[0m \u001b[1m0s\u001b[0m 399ms/step - accuracy: 0.8522 - loss: 0.4195\n",
            "Epoch 5: val_accuracy improved from 0.69697 to 0.72727, saving model to ./bestmodel.h5\n"
          ]
        },
        {
          "output_type": "stream",
          "name": "stderr",
          "text": [
            "WARNING:absl:You are saving your model as an HDF5 file via `model.save()` or `keras.saving.save_model(model)`. This file format is considered legacy. We recommend using instead the native Keras format, e.g. `model.save('my_model.keras')` or `keras.saving.save_model(model, 'my_model.keras')`. \n"
          ]
        },
        {
          "output_type": "stream",
          "name": "stdout",
          "text": [
            "\b\b\b\b\b\b\b\b\b\b\b\b\b\b\b\b\b\b\b\b\b\b\b\b\b\b\b\b\b\b\b\b\b\b\b\b\b\b\b\b\b\b\b\b\b\b\b\b\b\b\b\b\b\b\b\b\b\b\b\b\b\b\b\b\b\b\b\b\b\b\b\b\r\u001b[1m8/8\u001b[0m \u001b[32m━━━━━━━━━━━━━━━━━━━━\u001b[0m\u001b[37m\u001b[0m \u001b[1m3s\u001b[0m 332ms/step - accuracy: 0.8325 - loss: 0.4491 - val_accuracy: 0.7273 - val_loss: 0.5597\n",
            "Epoch 6/30\n",
            "\u001b[1m6/8\u001b[0m \u001b[32m━━━━━━━━━━━━━━━\u001b[0m\u001b[37m━━━━━\u001b[0m \u001b[1m0s\u001b[0m 361ms/step - accuracy: 0.7959 - loss: 0.4998\n",
            "Epoch 6: val_accuracy did not improve from 0.72727\n",
            "\u001b[1m8/8\u001b[0m \u001b[32m━━━━━━━━━━━━━━━━━━━━\u001b[0m\u001b[37m\u001b[0m \u001b[1m2s\u001b[0m 278ms/step - accuracy: 0.7961 - loss: 0.4981 - val_accuracy: 0.6667 - val_loss: 0.5885\n",
            "Epoch 7/30\n",
            "\u001b[1m6/8\u001b[0m \u001b[32m━━━━━━━━━━━━━━━\u001b[0m\u001b[37m━━━━━\u001b[0m \u001b[1m0s\u001b[0m 333ms/step - accuracy: 0.8036 - loss: 0.4755\n",
            "Epoch 7: val_accuracy improved from 0.72727 to 0.75758, saving model to ./bestmodel.h5\n"
          ]
        },
        {
          "output_type": "stream",
          "name": "stderr",
          "text": [
            "WARNING:absl:You are saving your model as an HDF5 file via `model.save()` or `keras.saving.save_model(model)`. This file format is considered legacy. We recommend using instead the native Keras format, e.g. `model.save('my_model.keras')` or `keras.saving.save_model(model, 'my_model.keras')`. \n"
          ]
        },
        {
          "output_type": "stream",
          "name": "stdout",
          "text": [
            "\b\b\b\b\b\b\b\b\b\b\b\b\b\b\b\b\b\b\b\b\b\b\b\b\b\b\b\b\b\b\b\b\b\b\b\b\b\b\b\b\b\b\b\b\b\b\b\b\b\b\b\b\b\b\b\b\b\b\b\b\b\b\b\b\b\b\b\b\b\b\b\b\r\u001b[1m8/8\u001b[0m \u001b[32m━━━━━━━━━━━━━━━━━━━━\u001b[0m\u001b[37m\u001b[0m \u001b[1m3s\u001b[0m 289ms/step - accuracy: 0.8062 - loss: 0.4669 - val_accuracy: 0.7576 - val_loss: 0.6698\n",
            "Epoch 8/30\n",
            "\u001b[1m6/8\u001b[0m \u001b[32m━━━━━━━━━━━━━━━\u001b[0m\u001b[37m━━━━━\u001b[0m \u001b[1m1s\u001b[0m 588ms/step - accuracy: 0.8027 - loss: 0.4766\n",
            "Epoch 8: val_accuracy did not improve from 0.75758\n",
            "\u001b[1m8/8\u001b[0m \u001b[32m━━━━━━━━━━━━━━━━━━━━\u001b[0m\u001b[37m\u001b[0m \u001b[1m3s\u001b[0m 467ms/step - accuracy: 0.8128 - loss: 0.4555 - val_accuracy: 0.7576 - val_loss: 0.6128\n",
            "Epoch 9/30\n",
            "\u001b[1m6/8\u001b[0m \u001b[32m━━━━━━━━━━━━━━━\u001b[0m\u001b[37m━━━━━\u001b[0m \u001b[1m0s\u001b[0m 360ms/step - accuracy: 0.7839 - loss: 0.4212\n",
            "Epoch 9: val_accuracy did not improve from 0.75758\n",
            "\u001b[1m8/8\u001b[0m \u001b[32m━━━━━━━━━━━━━━━━━━━━\u001b[0m\u001b[37m\u001b[0m \u001b[1m2s\u001b[0m 275ms/step - accuracy: 0.7856 - loss: 0.4178 - val_accuracy: 0.6970 - val_loss: 0.5314\n",
            "Epoch 10/30\n",
            "\u001b[1m6/8\u001b[0m \u001b[32m━━━━━━━━━━━━━━━\u001b[0m\u001b[37m━━━━━\u001b[0m \u001b[1m0s\u001b[0m 407ms/step - accuracy: 0.8610 - loss: 0.3809\n",
            "Epoch 10: val_accuracy did not improve from 0.75758\n",
            "\u001b[1m8/8\u001b[0m \u001b[32m━━━━━━━━━━━━━━━━━━━━\u001b[0m\u001b[37m\u001b[0m \u001b[1m2s\u001b[0m 312ms/step - accuracy: 0.8580 - loss: 0.3796 - val_accuracy: 0.7576 - val_loss: 0.5783\n",
            "Epoch 11/30\n",
            "\u001b[1m6/8\u001b[0m \u001b[32m━━━━━━━━━━━━━━━\u001b[0m\u001b[37m━━━━━\u001b[0m \u001b[1m0s\u001b[0m 356ms/step - accuracy: 0.8772 - loss: 0.3789\n",
            "Epoch 11: val_accuracy did not improve from 0.75758\n",
            "\u001b[1m8/8\u001b[0m \u001b[32m━━━━━━━━━━━━━━━━━━━━\u001b[0m\u001b[37m\u001b[0m \u001b[1m3s\u001b[0m 272ms/step - accuracy: 0.8716 - loss: 0.3828 - val_accuracy: 0.7273 - val_loss: 0.6961\n",
            "Epoch 12/30\n",
            "\u001b[1m6/8\u001b[0m \u001b[32m━━━━━━━━━━━━━━━\u001b[0m\u001b[37m━━━━━\u001b[0m \u001b[1m0s\u001b[0m 363ms/step - accuracy: 0.8413 - loss: 0.3439\n",
            "Epoch 12: val_accuracy did not improve from 0.75758\n",
            "\u001b[1m8/8\u001b[0m \u001b[32m━━━━━━━━━━━━━━━━━━━━\u001b[0m\u001b[37m\u001b[0m \u001b[1m2s\u001b[0m 281ms/step - accuracy: 0.8388 - loss: 0.3535 - val_accuracy: 0.7273 - val_loss: 0.5253\n",
            "Epoch 12: early stopping\n"
          ]
        }
      ]
    },
    {
      "cell_type": "code",
      "source": [
        "# Model Graphical Interpretation\n",
        "\n",
        "h = hs.history\n",
        "h.keys()\n",
        "\n",
        "import matplotlib.pyplot as plt\n",
        "plt.plot(h['loss'])\n",
        "plt.plot(h['val_loss'], c = \"red\")\n",
        "plt.title(\"loss vs val-loss\")\n",
        "plt.show()"
      ],
      "metadata": {
        "colab": {
          "base_uri": "https://localhost:8080/",
          "height": 452
        },
        "collapsed": true,
        "id": "eyEr5d-US10w",
        "outputId": "ee857cc3-fd18-44a9-b6d5-ba1da888f3b4"
      },
      "execution_count": 37,
      "outputs": [
        {
          "output_type": "display_data",
          "data": {
            "text/plain": [
              "<Figure size 640x480 with 1 Axes>"
            ],
            "image/png": "[encoded data removed]"
          },
          "metadata": {}
        }
      ]
    },
    {
      "cell_type": "code",
      "source": [
        "# Model Accuracy\n",
        "\n",
        "from keras.models import load_model\n",
        "model = load_model(\"/content/bestmodel.h5\")\n",
        "acc = model.evaluate(test_data)[1]\n",
        "print(f\"Our model accuracy is {acc*100} %\")"
      ],
      "metadata": {
        "colab": {
          "base_uri": "https://localhost:8080/"
        },
        "collapsed": true,
        "id": "s0IYeWTdUf-v",
        "outputId": "7e07950f-e1bc-41c2-8673-dc3144651524"
      },
      "execution_count": 51,
      "outputs": [
        {
          "output_type": "stream",
          "name": "stderr",
          "text": [
            "WARNING:absl:Compiled the loaded model, but the compiled metrics have yet to be built. `model.compile_metrics` will be empty until you train or evaluate the model.\n"
          ]
        },
        {
          "output_type": "stream",
          "name": "stdout",
          "text": [
            "\u001b[1m2/2\u001b[0m \u001b[32m━━━━━━━━━━━━━━━━━━━━\u001b[0m\u001b[37m\u001b[0m \u001b[1m1s\u001b[0m 265ms/step - accuracy: 0.8163 - loss: 0.3264\n",
            "Our model accuracy is 81.81818127632141 %\n"
          ]
        }
      ]
    },
    {
      "cell_type": "code",
      "source": [
        "from keras.preprocessing.image import load_img, img_to_array\n",
        "\n",
        "path = \"/content/brain_tumor_dataset/Tumor/Y8.jpg\"\n",
        "img = load_img(path, target_size=(224,224))\n",
        "input_arr = img_to_array(img)\n",
        "plt.imshow(input_arr/255.)\n",
        "plt.show()\n",
        "input_arr.shape\n",
        "\n",
        "input_arr = np.expand_dims(input_arr, axis = 0)\n",
        "\n",
        "pred = model.predict(input_arr)[0][0]\n",
        "pred\n",
        "\n",
        "if pred == 0:\n",
        "  print(\"The person has a tumor\")\n",
        "else:\n",
        "  print(\"The person is healthy\")"
      ],
      "metadata": {
        "colab": {
          "base_uri": "https://localhost:8080/",
          "height": 469
        },
        "id": "DsRXCnpOU_SA",
        "outputId": "0d5d3b86-a950-43db-d507-2cccdb25cd93"
      },
      "execution_count": 75,
      "outputs": [
        {
          "output_type": "display_data",
          "data": {
            "text/plain": [
              "<Figure size 640x480 with 1 Axes>"
            ],
            "image/png": "[encoded data removed]"
          },
          "metadata": {}
        },
        {
          "output_type": "stream",
          "name": "stdout",
          "text": [
            "\u001b[1m1/1\u001b[0m \u001b[32m━━━━━━━━━━━━━━━━━━━━\u001b[0m\u001b[37m\u001b[0m \u001b[1m0s\u001b[0m 32ms/step\n",
            "The person is healthy\n"
          ]
        }
      ]
    }
  ]
}